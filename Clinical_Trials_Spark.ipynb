{
 "cells": [
  {
   "cell_type": "code",
   "execution_count": 1,
   "metadata": {
    "colab": {
     "base_uri": "https://localhost:8080/"
    },
    "id": "p9Da8vc399gp",
    "outputId": "fc939897-9573-44d8-a83c-22cab04b32bb"
   },
   "outputs": [
    {
     "name": "stdout",
     "output_type": "stream",
     "text": [
      "Requirement already satisfied: pyspark in /usr/local/lib/python3.7/dist-packages (3.1.2)\n",
      "Requirement already satisfied: py4j==0.10.9 in /usr/local/lib/python3.7/dist-packages (from pyspark) (0.10.9)\n"
     ]
    }
   ],
   "source": [
    "!pip install pyspark"
   ]
  },
  {
   "cell_type": "code",
   "execution_count": 2,
   "metadata": {
    "id": "5rxaBJUl-Mgd"
   },
   "outputs": [],
   "source": [
    "import pyspark\n",
    "from pyspark.sql import SparkSession\n",
    "from pyspark import SparkConf, SparkContext"
   ]
  },
  {
   "cell_type": "code",
   "execution_count": 3,
   "metadata": {
    "id": "jhmKbNhK-POP"
   },
   "outputs": [],
   "source": [
    "import pandas as pd\n",
    "import numpy as np"
   ]
  },
  {
   "cell_type": "code",
   "execution_count": 4,
   "metadata": {
    "id": "nn2SaOC3-mdO"
   },
   "outputs": [],
   "source": [
    "final_topics = pd.read_csv('/content/data_topics.csv')"
   ]
  },
  {
   "cell_type": "code",
   "execution_count": 5,
   "metadata": {
    "colab": {
     "base_uri": "https://localhost:8080/",
     "height": 423
    },
    "id": "Ce2FDbU_Ayrp",
    "outputId": "6c0f50cb-0c56-4c77-e204-13c8e2df2b90"
   },
   "outputs": [
    {
     "data": {
      "text/html": [
       "<div>\n",
       "<style scoped>\n",
       "    .dataframe tbody tr th:only-of-type {\n",
       "        vertical-align: middle;\n",
       "    }\n",
       "\n",
       "    .dataframe tbody tr th {\n",
       "        vertical-align: top;\n",
       "    }\n",
       "\n",
       "    .dataframe thead th {\n",
       "        text-align: right;\n",
       "    }\n",
       "</style>\n",
       "<table border=\"1\" class=\"dataframe\">\n",
       "  <thead>\n",
       "    <tr style=\"text-align: right;\">\n",
       "      <th></th>\n",
       "      <th>Description</th>\n",
       "    </tr>\n",
       "  </thead>\n",
       "  <tbody>\n",
       "    <tr>\n",
       "      <th>0</th>\n",
       "      <td>a 58 year old african american woman presents ...</td>\n",
       "    </tr>\n",
       "    <tr>\n",
       "      <th>1</th>\n",
       "      <td>an 8 year old male presents in march to the er...</td>\n",
       "    </tr>\n",
       "    <tr>\n",
       "      <th>2</th>\n",
       "      <td>a 58 year old nonsmoker white female with mild...</td>\n",
       "    </tr>\n",
       "    <tr>\n",
       "      <th>3</th>\n",
       "      <td>a 2 year old boy is brought to the emergency d...</td>\n",
       "    </tr>\n",
       "    <tr>\n",
       "      <th>4</th>\n",
       "      <td>a 56 year old female on 20th day post left mas...</td>\n",
       "    </tr>\n",
       "    <tr>\n",
       "      <th>...</th>\n",
       "      <td>...</td>\n",
       "    </tr>\n",
       "    <tr>\n",
       "      <th>160</th>\n",
       "      <td>the patient is a 34 year old obese woman who c...</td>\n",
       "    </tr>\n",
       "    <tr>\n",
       "      <th>161</th>\n",
       "      <td>the patient is a 16 year old girl recently dia...</td>\n",
       "    </tr>\n",
       "    <tr>\n",
       "      <th>162</th>\n",
       "      <td>the patient is a 3 day old female infant with ...</td>\n",
       "    </tr>\n",
       "    <tr>\n",
       "      <th>163</th>\n",
       "      <td>the patient is a 53 year old man complaining o...</td>\n",
       "    </tr>\n",
       "    <tr>\n",
       "      <th>164</th>\n",
       "      <td>the patient is a 55 year old man who was recen...</td>\n",
       "    </tr>\n",
       "  </tbody>\n",
       "</table>\n",
       "<p>165 rows × 1 columns</p>\n",
       "</div>"
      ],
      "text/plain": [
       "                                           Description\n",
       "0    a 58 year old african american woman presents ...\n",
       "1    an 8 year old male presents in march to the er...\n",
       "2    a 58 year old nonsmoker white female with mild...\n",
       "3    a 2 year old boy is brought to the emergency d...\n",
       "4    a 56 year old female on 20th day post left mas...\n",
       "..                                                 ...\n",
       "160  the patient is a 34 year old obese woman who c...\n",
       "161  the patient is a 16 year old girl recently dia...\n",
       "162  the patient is a 3 day old female infant with ...\n",
       "163  the patient is a 53 year old man complaining o...\n",
       "164  the patient is a 55 year old man who was recen...\n",
       "\n",
       "[165 rows x 1 columns]"
      ]
     },
     "execution_count": 5,
     "metadata": {
      "tags": []
     },
     "output_type": "execute_result"
    }
   ],
   "source": [
    "final_topics"
   ]
  },
  {
   "cell_type": "code",
   "execution_count": 6,
   "metadata": {
    "colab": {
     "base_uri": "https://localhost:8080/"
    },
    "id": "iUlCxgvQ8Pry",
    "outputId": "f8bc9f11-c166-4f2f-b5f9-f8151cd147e0"
   },
   "outputs": [
    {
     "name": "stdout",
     "output_type": "stream",
     "text": [
      "Requirement already satisfied: py7zr in /usr/local/lib/python3.7/dist-packages (0.16.1)\n",
      "Requirement already satisfied: pycryptodomex>=3.6.6 in /usr/local/lib/python3.7/dist-packages (from py7zr) (3.10.1)\n",
      "Requirement already satisfied: texttable in /usr/local/lib/python3.7/dist-packages (from py7zr) (1.6.3)\n",
      "Requirement already satisfied: pyppmd>=0.14.0 in /usr/local/lib/python3.7/dist-packages (from py7zr) (0.15.0)\n",
      "Requirement already satisfied: brotli>=1.0.9; platform_python_implementation == \"CPython\" in /usr/local/lib/python3.7/dist-packages (from py7zr) (1.0.9)\n",
      "Requirement already satisfied: multivolumefile>=0.2.3 in /usr/local/lib/python3.7/dist-packages (from py7zr) (0.2.3)\n",
      "Requirement already satisfied: importlib-metadata; python_version < \"3.8\" in /usr/local/lib/python3.7/dist-packages (from py7zr) (4.0.1)\n",
      "Requirement already satisfied: pyzstd<0.15.0,>=0.14.4 in /usr/local/lib/python3.7/dist-packages (from py7zr) (0.14.4)\n",
      "Requirement already satisfied: bcj-cffi<0.6.0,>=0.5.1 in /usr/local/lib/python3.7/dist-packages (from py7zr) (0.5.1)\n",
      "Requirement already satisfied: typing-extensions>=3.6.4; python_version < \"3.8\" in /usr/local/lib/python3.7/dist-packages (from importlib-metadata; python_version < \"3.8\"->py7zr) (3.7.4.3)\n",
      "Requirement already satisfied: zipp>=0.5 in /usr/local/lib/python3.7/dist-packages (from importlib-metadata; python_version < \"3.8\"->py7zr) (3.4.1)\n",
      "Requirement already satisfied: cffi>=1.14.0 in /usr/local/lib/python3.7/dist-packages (from bcj-cffi<0.6.0,>=0.5.1->py7zr) (1.14.5)\n",
      "Requirement already satisfied: pycparser in /usr/local/lib/python3.7/dist-packages (from cffi>=1.14.0->bcj-cffi<0.6.0,>=0.5.1->py7zr) (2.20)\n"
     ]
    }
   ],
   "source": [
    "!pip install py7zr"
   ]
  },
  {
   "cell_type": "code",
   "execution_count": 7,
   "metadata": {
    "id": "DD0LqBf_CA31"
   },
   "outputs": [],
   "source": [
    "import py7zr"
   ]
  },
  {
   "cell_type": "code",
   "execution_count": 8,
   "metadata": {
    "id": "ee_TMsgbCD11"
   },
   "outputs": [],
   "source": [
    "with py7zr.SevenZipFile('/content/data.7z', mode='r') as z:\n",
    "    z.extractall()"
   ]
  },
  {
   "cell_type": "code",
   "execution_count": 9,
   "metadata": {
    "id": "AyT0mVCdCD4H"
   },
   "outputs": [],
   "source": [
    "data_combined = pd.read_csv('/content/data.csv')"
   ]
  },
  {
   "cell_type": "code",
   "execution_count": 10,
   "metadata": {
    "colab": {
     "base_uri": "https://localhost:8080/",
     "height": 423
    },
    "id": "XZVggdwPCD6W",
    "outputId": "f66868fe-6822-4201-ebe1-83402aec6827"
   },
   "outputs": [
    {
     "data": {
      "text/html": [
       "<div>\n",
       "<style scoped>\n",
       "    .dataframe tbody tr th:only-of-type {\n",
       "        vertical-align: middle;\n",
       "    }\n",
       "\n",
       "    .dataframe tbody tr th {\n",
       "        vertical-align: top;\n",
       "    }\n",
       "\n",
       "    .dataframe thead th {\n",
       "        text-align: right;\n",
       "    }\n",
       "</style>\n",
       "<table border=\"1\" class=\"dataframe\">\n",
       "  <thead>\n",
       "    <tr style=\"text-align: right;\">\n",
       "      <th></th>\n",
       "      <th>nct_id</th>\n",
       "      <th>combined</th>\n",
       "    </tr>\n",
       "  </thead>\n",
       "  <tbody>\n",
       "    <tr>\n",
       "      <th>0</th>\n",
       "      <td>NCT00000102</td>\n",
       "      <td>congenital adrenal hyperplasia calcium channel...</td>\n",
       "    </tr>\n",
       "    <tr>\n",
       "      <th>1</th>\n",
       "      <td>NCT00000104</td>\n",
       "      <td>does lead burden alter neuropsychological deve...</td>\n",
       "    </tr>\n",
       "    <tr>\n",
       "      <th>2</th>\n",
       "      <td>NCT00000107</td>\n",
       "      <td>body water content in cyanotic congenital hear...</td>\n",
       "    </tr>\n",
       "    <tr>\n",
       "      <th>3</th>\n",
       "      <td>NCT00000108</td>\n",
       "      <td>effects of training intensity on the chd risk ...</td>\n",
       "    </tr>\n",
       "    <tr>\n",
       "      <th>4</th>\n",
       "      <td>NCT00000110</td>\n",
       "      <td>influence of diet and endurance running on int...</td>\n",
       "    </tr>\n",
       "    <tr>\n",
       "      <th>...</th>\n",
       "      <td>...</td>\n",
       "      <td>...</td>\n",
       "    </tr>\n",
       "    <tr>\n",
       "      <th>60217</th>\n",
       "      <td>NCT00989703</td>\n",
       "      <td>glpg0259 multiple ascending dose and methotrex...</td>\n",
       "    </tr>\n",
       "    <tr>\n",
       "      <th>60218</th>\n",
       "      <td>NCT00989729</td>\n",
       "      <td>preoperative methylprednisolone in endovascula...</td>\n",
       "    </tr>\n",
       "    <tr>\n",
       "      <th>60219</th>\n",
       "      <td>NCT00989742</td>\n",
       "      <td>doxycycline in lymphangioleiomyomatosis lam  t...</td>\n",
       "    </tr>\n",
       "    <tr>\n",
       "      <th>60220</th>\n",
       "      <td>NCT00989755</td>\n",
       "      <td>center for disease control cdc fax to quit aca...</td>\n",
       "    </tr>\n",
       "    <tr>\n",
       "      <th>60221</th>\n",
       "      <td>NCT00989768</td>\n",
       "      <td>field of effects of two commercial preparation...</td>\n",
       "    </tr>\n",
       "  </tbody>\n",
       "</table>\n",
       "<p>60222 rows × 2 columns</p>\n",
       "</div>"
      ],
      "text/plain": [
       "            nct_id                                           combined\n",
       "0      NCT00000102  congenital adrenal hyperplasia calcium channel...\n",
       "1      NCT00000104  does lead burden alter neuropsychological deve...\n",
       "2      NCT00000107  body water content in cyanotic congenital hear...\n",
       "3      NCT00000108  effects of training intensity on the chd risk ...\n",
       "4      NCT00000110  influence of diet and endurance running on int...\n",
       "...            ...                                                ...\n",
       "60217  NCT00989703  glpg0259 multiple ascending dose and methotrex...\n",
       "60218  NCT00989729  preoperative methylprednisolone in endovascula...\n",
       "60219  NCT00989742  doxycycline in lymphangioleiomyomatosis lam  t...\n",
       "60220  NCT00989755  center for disease control cdc fax to quit aca...\n",
       "60221  NCT00989768  field of effects of two commercial preparation...\n",
       "\n",
       "[60222 rows x 2 columns]"
      ]
     },
     "execution_count": 10,
     "metadata": {
      "tags": []
     },
     "output_type": "execute_result"
    }
   ],
   "source": [
    "data_combined"
   ]
  },
  {
   "cell_type": "code",
   "execution_count": 11,
   "metadata": {
    "id": "By0OKykO8ZkT"
   },
   "outputs": [],
   "source": [
    "config = SparkSession.builder.master(\"local[*]\").config(\"spark.executor.memory\", \"70g\").config(\"spark.driver.memory\", \"50g\").config(\"spark.memory.offHeap.enabled\",True).config(\"spark.memory.offHeap.size\",\"16g\").appName(\"sampleCodeForReference\").getOrCreate()"
   ]
  },
  {
   "cell_type": "code",
   "execution_count": 12,
   "metadata": {
    "id": "95SEPFGSDQet"
   },
   "outputs": [],
   "source": [
    "sqlContext = config"
   ]
  },
  {
   "cell_type": "code",
   "execution_count": 13,
   "metadata": {
    "id": "2xika4TsDQhY"
   },
   "outputs": [],
   "source": [
    "df_topic = sqlContext.createDataFrame(final_topics)\n",
    "df_nct = sqlContext.createDataFrame(data_combined)"
   ]
  },
  {
   "cell_type": "code",
   "execution_count": 14,
   "metadata": {
    "colab": {
     "base_uri": "https://localhost:8080/"
    },
    "id": "us7KrhWkDQjy",
    "outputId": "549a6170-450a-42c3-bb40-e552f0f9577c"
   },
   "outputs": [
    {
     "name": "stdout",
     "output_type": "stream",
     "text": [
      "+-----------+--------------------+\n",
      "|     nct_id|            combined|\n",
      "+-----------+--------------------+\n",
      "|NCT00000102|congenital adrena...|\n",
      "|NCT00000104|does lead burden ...|\n",
      "|NCT00000107|body water conten...|\n",
      "|NCT00000108|effects of traini...|\n",
      "|NCT00000110|influence of diet...|\n",
      "|NCT00000113|correction of myo...|\n",
      "|NCT00000114|randomized trial ...|\n",
      "|NCT00000115|randomized trial ...|\n",
      "|NCT00000116|randomized trial ...|\n",
      "|NCT00000117|intravenous immun...|\n",
      "|NCT00000118|ganciclovir impla...|\n",
      "|NCT00000120|clinical trial of...|\n",
      "|NCT00000121|the prism adaptat...|\n",
      "|NCT00000122|fluorouracil filt...|\n",
      "|NCT00000123|the berkeley orth...|\n",
      "|NCT00000125|ocular hypertensi...|\n",
      "|NCT00000127|ischemic optic ne...|\n",
      "|NCT00000129|prospective evalu...|\n",
      "|NCT00000130|endophthalmitis v...|\n",
      "|NCT00000131|central vein occl...|\n",
      "+-----------+--------------------+\n",
      "only showing top 20 rows\n",
      "\n"
     ]
    }
   ],
   "source": [
    "df_nct.show()"
   ]
  },
  {
   "cell_type": "code",
   "execution_count": 15,
   "metadata": {
    "id": "yLtZgIDnDQmH"
   },
   "outputs": [],
   "source": [
    "from pyspark.ml.feature import RegexTokenizer, StopWordsRemover, CountVectorizer, IDF\n",
    "from pyspark.ml import Pipeline"
   ]
  },
  {
   "cell_type": "code",
   "execution_count": 16,
   "metadata": {
    "id": "s6BJMNPTDQoy"
   },
   "outputs": [],
   "source": [
    "columns = ['combined']"
   ]
  },
  {
   "cell_type": "code",
   "execution_count": 17,
   "metadata": {
    "id": "JTtkEuL2DQqW"
   },
   "outputs": [],
   "source": [
    "pre_process = []\n",
    "\n",
    "for col in columns:\n",
    "    re_token = RegexTokenizer(gaps=False, pattern='\\w+', inputCol=col, outputCol='combined_tok')\n",
    "    stopword_remover = StopWordsRemover(inputCol='combined_tok', outputCol='combined_sw_clean')\n",
    "    pre_process += [re_token, stopword_remover]\n",
    "\n",
    "pipeline = Pipeline(stages=pre_process)"
   ]
  },
  {
   "cell_type": "code",
   "execution_count": 18,
   "metadata": {
    "id": "wHTFPNy5DQss"
   },
   "outputs": [],
   "source": [
    "data = df_nct\n",
    "model = pipeline.fit(df_nct)\n",
    "data_transformed = model.transform(df_nct)"
   ]
  },
  {
   "cell_type": "code",
   "execution_count": 19,
   "metadata": {
    "colab": {
     "base_uri": "https://localhost:8080/"
    },
    "id": "UMSv4yP6DQvE",
    "outputId": "a35023dc-e390-49e3-dd1e-a98045e3a857"
   },
   "outputs": [
    {
     "name": "stdout",
     "output_type": "stream",
     "text": [
      "+-----------+--------------------+--------------------+--------------------+\n",
      "|     nct_id|            combined|        combined_tok|   combined_sw_clean|\n",
      "+-----------+--------------------+--------------------+--------------------+\n",
      "|NCT00000102|congenital adrena...|[congenital, adre...|[congenital, adre...|\n",
      "|NCT00000104|does lead burden ...|[does, lead, burd...|[lead, burden, al...|\n",
      "|NCT00000107|body water conten...|[body, water, con...|[body, water, con...|\n",
      "|NCT00000108|effects of traini...|[effects, of, tra...|[effects, trainin...|\n",
      "|NCT00000110|influence of diet...|[influence, of, d...|[influence, diet,...|\n",
      "|NCT00000113|correction of myo...|[correction, of, ...|[correction, myop...|\n",
      "|NCT00000114|randomized trial ...|[randomized, tria...|[randomized, tria...|\n",
      "|NCT00000115|randomized trial ...|[randomized, tria...|[randomized, tria...|\n",
      "|NCT00000116|randomized trial ...|[randomized, tria...|[randomized, tria...|\n",
      "|NCT00000117|intravenous immun...|[intravenous, imm...|[intravenous, imm...|\n",
      "|NCT00000118|ganciclovir impla...|[ganciclovir, imp...|[ganciclovir, imp...|\n",
      "|NCT00000120|clinical trial of...|[clinical, trial,...|[clinical, trial,...|\n",
      "|NCT00000121|the prism adaptat...|[the, prism, adap...|[prism, adaptatio...|\n",
      "|NCT00000122|fluorouracil filt...|[fluorouracil, fi...|[fluorouracil, fi...|\n",
      "|NCT00000123|the berkeley orth...|[the, berkeley, o...|[berkeley, orthok...|\n",
      "|NCT00000125|ocular hypertensi...|[ocular, hyperten...|[ocular, hyperten...|\n",
      "|NCT00000127|ischemic optic ne...|[ischemic, optic,...|[ischemic, optic,...|\n",
      "|NCT00000129|prospective evalu...|[prospective, eva...|[prospective, eva...|\n",
      "|NCT00000130|endophthalmitis v...|[endophthalmitis,...|[endophthalmitis,...|\n",
      "|NCT00000131|central vein occl...|[central, vein, o...|[central, vein, o...|\n",
      "+-----------+--------------------+--------------------+--------------------+\n",
      "only showing top 20 rows\n",
      "\n"
     ]
    }
   ],
   "source": [
    "data_transformed.show()"
   ]
  },
  {
   "cell_type": "code",
   "execution_count": 20,
   "metadata": {
    "colab": {
     "base_uri": "https://localhost:8080/"
    },
    "id": "Q4OUL1guTtux",
    "outputId": "663faf7c-0d90-4082-9162-6042ab115fcd"
   },
   "outputs": [
    {
     "name": "stdout",
     "output_type": "stream",
     "text": [
      "root\n",
      " |-- nct_id: string (nullable = true)\n",
      " |-- combined: string (nullable = true)\n",
      " |-- combined_tok: array (nullable = true)\n",
      " |    |-- element: string (containsNull = true)\n",
      " |-- combined_sw_clean: array (nullable = true)\n",
      " |    |-- element: string (containsNull = true)\n",
      "\n"
     ]
    }
   ],
   "source": [
    "data_transformed.printSchema()"
   ]
  },
  {
   "cell_type": "code",
   "execution_count": 21,
   "metadata": {
    "id": "7yRvNG4SMvvh"
   },
   "outputs": [],
   "source": [
    "df = data_transformed.select('nct_id','combined_sw_clean').toPandas()"
   ]
  },
  {
   "cell_type": "code",
   "execution_count": 23,
   "metadata": {
    "id": "3ewek7I9O26o"
   },
   "outputs": [],
   "source": [
    "df.to_csv('data_spark.csv')"
   ]
  }
 ],
 "metadata": {
  "colab": {
   "collapsed_sections": [],
   "name": "Clinical Trials Spark.ipynb",
   "provenance": []
  },
  "kernelspec": {
   "display_name": "Python 3 (ipykernel)",
   "language": "python",
   "name": "python3"
  },
  "language_info": {
   "codemirror_mode": {
    "name": "ipython",
    "version": 3
   },
   "file_extension": ".py",
   "mimetype": "text/x-python",
   "name": "python",
   "nbconvert_exporter": "python",
   "pygments_lexer": "ipython3",
   "version": "3.8.12"
  }
 },
 "nbformat": 4,
 "nbformat_minor": 1
}
